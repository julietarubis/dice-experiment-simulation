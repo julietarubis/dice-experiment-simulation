{
 "cells": [
  {
   "cell_type": "markdown",
   "metadata": {},
   "source": [
    "# Notebook E-tivity 3 CE4021 Task 2"
   ]
  },
  {
   "cell_type": "markdown",
   "metadata": {},
   "source": [
    "<hr style=\\\"border:2px solid gray\\\"> </hr>"
   ]
  },
  {
   "cell_type": "markdown",
   "metadata": {},
   "source": [
    "## Imports"
   ]
  },
  {
   "cell_type": "code",
   "execution_count": null,
   "metadata": {},
   "outputs": [],
   "source": [
    "#None"
   ]
  },
  {
   "cell_type": "markdown",
   "metadata": {},
   "source": [
    "If you believe required imports are missing, please contact your moderator."
   ]
  },
  {
   "cell_type": "markdown",
   "metadata": {},
   "source": [
    "<hr style=\\\"border:2px solid gray\\\"> </hr>"
   ]
  },
  {
   "cell_type": "markdown",
   "metadata": {},
   "source": [
    "## Task 2"
   ]
  },
  {
   "cell_type": "markdown",
   "metadata": {},
   "source": [
    "Use the below information to create a Naive Bayes SPAM filter. Test your filter using the messages in new_emails. You may add as many cells as you require to complete the task."
   ]
  },
  {
   "cell_type": "code",
   "execution_count": 7,
   "metadata": {},
   "outputs": [],
   "source": [
    "previous_spam = ['send us your password', 'review our website', 'send your password', 'send us your account']\n",
    "previous_ham = ['Your activity report','benefits physical activity', 'the importance vows']\n",
    "new_emails = {'spam':['renew your password', 'renew your vows'], 'ham':['benefits of our account', 'the importance of physical activity']}"
   ]
  },
  {
   "cell_type": "code",
   "execution_count": 22,
   "metadata": {},
   "outputs": [
    {
     "name": "stdout",
     "output_type": "stream",
     "text": [
      "Email: 'renew your password' is classified as 'spam'\n",
      "Email: 'renew your vows' is classified as 'spam'\n",
      "Email: 'benefits of our account' is classified as 'spam'\n",
      "Email: 'the importance of physical activity' is classified as 'ham'\n"
     ]
    }
   ],
   "source": [
    "def calculate_prior_probabilities(ham_emails, spam_emails):\n",
    "    \"\"\"\n",
    "    Calculate prior probabilities P(ham) and P(spam).\n",
    "    \n",
    "    :param ham_emails: List of ham emails.\n",
    "    :param spam_emails: List of spam emails.\n",
    "    :return: Tuple of prior probabilities for ham and spam.\n",
    "    \"\"\"\n",
    "    total_emails = len(ham_emails) + len(spam_emails)\n",
    "    prior_ham = len(ham_emails) / total_emails\n",
    "    prior_spam = len(spam_emails) / total_emails\n",
    "    return prior_ham, prior_spam\n",
    "\n",
    "def calculate_conditional_probabilities(ham_emails, spam_emails):\n",
    "    \"\"\"\n",
    "    Calculate conditional probabilities P(word|ham) and P(word|spam).\n",
    "    \n",
    "    :param ham_emails: List of ham emails.\n",
    "    :param spam_emails: List of spam emails.\n",
    "    :return: Tuple of dictionaries with conditional probabilities for each word in ham and spam.\n",
    "    \"\"\"\n",
    "    word_counts_ham = {}\n",
    "    word_counts_spam = {}\n",
    "    \n",
    "    for email in ham_emails:\n",
    "        words = email.split()\n",
    "        for word in words:\n",
    "            word_counts_ham[word] = word_counts_ham.get(word, 0) + 1\n",
    "\n",
    "    for email in spam_emails:\n",
    "        words = email.split()\n",
    "        for word in words:\n",
    "            word_counts_spam[word] = word_counts_spam.get(word, 0) + 1\n",
    "    \n",
    "    # Adding Laplace smoothing and calculating conditional probabilities\n",
    "    vocabulary = set(word_counts_ham.keys()) | set(word_counts_spam.keys())\n",
    "    total_words_ham = sum(word_counts_ham.values())\n",
    "    total_words_spam = sum(word_counts_spam.values())\n",
    "\n",
    "    conditional_probabilities_ham = {word: (word_counts_ham.get(word, 0) + 1) / (total_words_ham + len(vocabulary)) for word in vocabulary}\n",
    "    conditional_probabilities_spam = {word: (word_counts_spam.get(word, 0) + 1) / (total_words_spam + len(vocabulary)) for word in vocabulary}\n",
    "    \n",
    "    return conditional_probabilities_ham, conditional_probabilities_spam\n",
    "\n",
    "def classify_email(email, prior_ham, prior_spam, conditional_probabilities_ham, conditional_probabilities_spam):\n",
    "    \"\"\"\n",
    "    Classify an email as ham or spam using Bayes' Rule.\n",
    "    \n",
    "    :param email: The email text to be classified.\n",
    "    :param prior_ham: Prior probability for ham.\n",
    "    :param prior_spam: Prior probability for spam.\n",
    "    :param conditional_probabilities_ham: Dictionary with conditional probabilities for each word in ham.\n",
    "    :param conditional_probabilities_spam: Dictionary with conditional probabilities for each word in spam.\n",
    "    :return: Classification result ('ham' or 'spam').\n",
    "    \"\"\"\n",
    "    words = email.split()\n",
    "    \n",
    "    # Initialize probabilities\n",
    "    prob_ham = prior_ham\n",
    "    prob_spam = prior_spam\n",
    "    \n",
    "    # Calculate conditional probabilities for each word and update the probabilities\n",
    "    for word in words:\n",
    "        prob_ham *= conditional_probabilities_ham.get(word, 1)\n",
    "        prob_spam *= conditional_probabilities_spam.get(word, 1)\n",
    "    \n",
    "    # Compare probabilities and classify\n",
    "    if prob_spam > prob_ham:\n",
    "        return 'spam'\n",
    "    else:\n",
    "        return 'ham'\n",
    "\n",
    "# Build the model\n",
    "prior_ham, prior_spam = calculate_prior_probabilities(previous_ham, previous_spam)\n",
    "conditional_probabilities_ham, conditional_probabilities_spam = calculate_conditional_probabilities(previous_ham, previous_spam)\n",
    "\n",
    "# Classify new emails\n",
    "for label, emails in new_emails.items():\n",
    "    for email in emails:\n",
    "        classification = classify_email(email, prior_ham, prior_spam, conditional_probabilities_ham, conditional_probabilities_spam)\n",
    "        print(f\"Email: '{email}' is classified as '{classification}'\")\n"
   ]
  },
  {
   "cell_type": "markdown",
   "metadata": {},
   "source": [
    "<hr style=\\\"border:2px solid gray\\\"> </hr>"
   ]
  },
  {
   "cell_type": "markdown",
   "metadata": {},
   "source": [
    "## The Naive Bayes classifier is based on Bayes' theorem:"
   ]
  },
  {
   "cell_type": "markdown",
   "metadata": {},
   "source": [
    "\n",
    "\n",
    "$$P(A∣B) = \\frac{(P|A) x P(A)}{P(B)}$$\n",
    "\n",
    "<strong>email classification:</strong>\n",
    "- P(A∣B) is the probability that an email is spam (or ham).\n",
    "- P(B∣A) is the probability of observing the email content given that it's spam (or ham).\n",
    "- P(A) is the prior probability that an email is spam (or ham), i.e., without any knowledge about its content.\n",
    "- P(B) is the probability of observing the email content.\n",
    "\n",
    "<strong>To calculate prior probabilities:</strong>\n",
    "\n",
    "$$ P(\\text{ham}) = \\frac{\\text{Number of ham emails}}{\\text{Total number of emails}} $$\n",
    "$$ P(\\text{spam}) = \\frac{\\text{Number of spam emails}}{\\text{Total number of emails}} $$\n",
    "\n",
    "<strong>For conditional probabilities for each word \\( w \\):</strong>\n",
    "\n",
    "$$ P(w|\\text{ham}) = \\frac{\\text{Count of } w \\text{ in ham emails} + 1}{\\text{Total words in ham emails} + \\text{Size of vocabulary}} $$\n",
    "$$ P(w|\\text{spam}) = \\frac{\\text{Count of } w \\text{ in spam emails} + 1}{\\text{Total words in spam emails} + \\text{Size of vocabulary}} $$\n",
    "\n",
    "<strong>For email classification:</strong>\n",
    "\n",
    "$$ P(\\text{ham}|w_1, w_2, ..., w_n) \\propto P(\\text{ham}) \\times \\prod_{i=1}^{n} P(w_i|\\text{ham}) $$\n",
    "$$ P(\\text{spam}|w_1, w_2, ..., w_n) \\propto P(\\text{spam}) \\times \\prod_{i=1}^{n} P(w_i|\\text{spam}) $$\n"
   ]
  },
  {
   "cell_type": "markdown",
   "metadata": {},
   "source": [
    "The conditional probabilities (or likelihoods) for a word $$ ( w ) $$ are:\n",
    "\n",
    "Given:\n",
    "- Total words in ham emails:  $ ( N_{ham} ) $\n",
    "- Total words in spam emails: $ ( N_{spam} ) $\n",
    "- Count of word $ ( w ) $ in ham emails: $ ( C_{w, ham} ) $\n",
    "- Count of word $ ( w ) $ in spam emails: $ ( C_{w, spam} ) $\n",
    "- Vocabulary size (unique words across all emails): $ ( V ) $\n",
    "\n",
    "Using Laplace Smoothing:\n",
    "\n",
    "1. For Ham:\n",
    "$ [ P(w|ham) = \\frac{C_{w, ham} + 1}{N_{ham} + V} ] $\n",
    "\n",
    "2. For Spam:\n",
    "$ [ P(w|spam) = \\frac{C_{w, spam} + 1}{N_{spam} + V} ] $"
   ]
  },
  {
   "cell_type": "markdown",
   "metadata": {},
   "source": [
    "<hr style=\\\"border:2px solid gray\\\"> </hr>"
   ]
  },
  {
   "cell_type": "markdown",
   "metadata": {},
   "source": [
    "## Reflection"
   ]
  },
  {
   "cell_type": "markdown",
   "metadata": {},
   "source": [
    "- The code employs Bayes' theorem to build a simple Naive Bayes classifier for email spam detection.\n",
    "- The use of Laplace Smoothing in calculating conditional probabilities is a good approach to handle words that might not have appeared in the training data but appear in new emails.\n",
    "- The structure of the code is modular, with each function performing a specific task, making it readable and maintainable.\n",
    "- A potential improvement could be to handle word variations (e.g., stemming or lemmatization) and consider removing common stopwords.\n",
    "- The code assumes words are independent of each other (naive assumption), which might not always be the case in real emails.\n",
    "- For practical applications, the dataset's size, diversity, and preprocessing steps will play a significant role in the model's effectiveness."
   ]
  },
  {
   "cell_type": "markdown",
   "metadata": {},
   "source": [
    "## Reference"
   ]
  },
  {
   "cell_type": "markdown",
   "metadata": {},
   "source": [
    "- 3Blue1Brown. “Bayes Theorem.” YouTube, 22 Dec. 2019, www.youtube.com/watch?v=HZGCoVF3YvM.\n",
    "- “Mastering Probability and Statistics in Python - Part 1.” Www.youtube.com, www.youtube.com/watch?v=KEhWSpdMCVk&list=PLVgEzPHodXi1wT9OK8B_W6Hs8Xc-gaG6N&index=2. Accessed 17 Oct. 2023.\n",
    "\n",
    "- “Probability.” Mathsisfun.com, 2017, www.mathsisfun.com/data/probability.html.\n",
    "- Rusland, Nurul Fitriah, et al. “Analysis of Naïve Bayes Algorithm for Email Spam Filtering across Multiple Datasets.” IOP Conference Series: Materials Science and Engineering, vol. 226, Aug. 2017, p. 012091, https://doi.org/10.1088/1757-899x/226/1/012091."
   ]
  }
 ],
 "metadata": {
  "kernelspec": {
   "display_name": "Python 3 (ipykernel)",
   "language": "python",
   "name": "python3"
  },
  "language_info": {
   "codemirror_mode": {
    "name": "ipython",
    "version": 3
   },
   "file_extension": ".py",
   "mimetype": "text/x-python",
   "name": "python",
   "nbconvert_exporter": "python",
   "pygments_lexer": "ipython3",
   "version": "3.11.4"
  }
 },
 "nbformat": 4,
 "nbformat_minor": 2
}
